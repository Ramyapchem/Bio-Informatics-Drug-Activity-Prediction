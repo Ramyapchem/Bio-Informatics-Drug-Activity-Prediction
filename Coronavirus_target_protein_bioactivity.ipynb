{
 "cells": [
  {
   "cell_type": "markdown",
   "metadata": {
    "id": "vE-hYScSnwgM"
   },
   "source": [
    "**Bioinformatics/Computational Drug Discovery Project :-** In this project we are going to analyze the inhibitory concentration of drugs that targets coronavirus protein. For this data was taken from Chembl Database."
   ]
  },
  {
   "cell_type": "markdown",
   "metadata": {
    "id": "ihW2bzlk0l0C"
   },
   "source": [
    "**Installing Libraries:**"
   ]
  },
  {
   "cell_type": "code",
   "execution_count": 40,
   "metadata": {
    "colab": {
     "base_uri": "https://localhost:8080/"
    },
    "id": "ngCbjDIHq_2P",
    "outputId": "350ae8ca-d51d-4e98-8d60-06aca8c55f62"
   },
   "outputs": [
    {
     "name": "stdout",
     "output_type": "stream",
     "text": [
      "Requirement already satisfied: chembl_webresource_client in c:\\users\\dell\\anaconda3\\lib\\site-packages (0.10.8)\n",
      "Requirement already satisfied: requests-cache~=0.7.0 in c:\\users\\dell\\anaconda3\\lib\\site-packages (from chembl_webresource_client) (0.7.5)\n",
      "Requirement already satisfied: urllib3 in c:\\users\\dell\\anaconda3\\lib\\site-packages (from chembl_webresource_client) (1.26.4)\n",
      "Requirement already satisfied: easydict in c:\\users\\dell\\anaconda3\\lib\\site-packages (from chembl_webresource_client) (1.9)\n",
      "Requirement already satisfied: requests>=2.18.4 in c:\\users\\dell\\anaconda3\\lib\\site-packages (from chembl_webresource_client) (2.25.1)\n",
      "Requirement already satisfied: chardet<5,>=3.0.2 in c:\\users\\dell\\anaconda3\\lib\\site-packages (from requests>=2.18.4->chembl_webresource_client) (4.0.0)\n",
      "Requirement already satisfied: certifi>=2017.4.17 in c:\\users\\dell\\anaconda3\\lib\\site-packages (from requests>=2.18.4->chembl_webresource_client) (2020.12.5)\n",
      "Requirement already satisfied: idna<3,>=2.5 in c:\\users\\dell\\anaconda3\\lib\\site-packages (from requests>=2.18.4->chembl_webresource_client) (2.10)\n",
      "Requirement already satisfied: url-normalize<2.0,>=1.4 in c:\\users\\dell\\anaconda3\\lib\\site-packages (from requests-cache~=0.7.0->chembl_webresource_client) (1.4.3)\n",
      "Requirement already satisfied: pyyaml>=5.4 in c:\\users\\dell\\anaconda3\\lib\\site-packages (from requests-cache~=0.7.0->chembl_webresource_client) (5.4.1)\n",
      "Requirement already satisfied: itsdangerous>=2.0.1 in c:\\users\\dell\\anaconda3\\lib\\site-packages (from requests-cache~=0.7.0->chembl_webresource_client) (2.1.2)\n",
      "Requirement already satisfied: attrs<22.0,>=21.2 in c:\\users\\dell\\anaconda3\\lib\\site-packages (from requests-cache~=0.7.0->chembl_webresource_client) (21.4.0)\n",
      "Requirement already satisfied: six in c:\\users\\dell\\anaconda3\\lib\\site-packages (from url-normalize<2.0,>=1.4->requests-cache~=0.7.0->chembl_webresource_client) (1.15.0)\n"
     ]
    }
   ],
   "source": [
    "! pip install chembl_webresource_client\n"
   ]
  },
  {
   "cell_type": "markdown",
   "metadata": {
    "id": "waD-tA0i0045"
   },
   "source": [
    "**Importing Libraries :**"
   ]
  },
  {
   "cell_type": "code",
   "execution_count": 41,
   "metadata": {
    "id": "iceRTZs_sgV6"
   },
   "outputs": [],
   "source": [
    "import pandas as pd\n",
    "from chembl_webresource_client.new_client import new_client\n",
    "import warnings\n",
    "warnings.filterwarnings('ignore')"
   ]
  },
  {
   "cell_type": "markdown",
   "metadata": {
    "id": "Q4OYWHFR0xOj"
   },
   "source": [
    "**Search for target protein :**"
   ]
  },
  {
   "cell_type": "code",
   "execution_count": 42,
   "metadata": {
    "colab": {
     "base_uri": "https://localhost:8080/",
     "height": 694
    },
    "id": "0hdr0tfDswRk",
    "outputId": "43b36640-ff90-4915-906f-acd2a7607ae1",
    "scrolled": true
   },
   "outputs": [
    {
     "data": {
      "text/html": [
       "<div>\n",
       "<style scoped>\n",
       "    .dataframe tbody tr th:only-of-type {\n",
       "        vertical-align: middle;\n",
       "    }\n",
       "\n",
       "    .dataframe tbody tr th {\n",
       "        vertical-align: top;\n",
       "    }\n",
       "\n",
       "    .dataframe thead th {\n",
       "        text-align: right;\n",
       "    }\n",
       "</style>\n",
       "<table border=\"1\" class=\"dataframe\">\n",
       "  <thead>\n",
       "    <tr style=\"text-align: right;\">\n",
       "      <th></th>\n",
       "      <th>cross_references</th>\n",
       "      <th>organism</th>\n",
       "      <th>pref_name</th>\n",
       "      <th>score</th>\n",
       "      <th>species_group_flag</th>\n",
       "      <th>target_chembl_id</th>\n",
       "      <th>target_components</th>\n",
       "      <th>target_type</th>\n",
       "      <th>tax_id</th>\n",
       "    </tr>\n",
       "  </thead>\n",
       "  <tbody>\n",
       "    <tr>\n",
       "      <th>0</th>\n",
       "      <td>[]</td>\n",
       "      <td>Coronavirus</td>\n",
       "      <td>Coronavirus</td>\n",
       "      <td>17.0</td>\n",
       "      <td>False</td>\n",
       "      <td>CHEMBL613732</td>\n",
       "      <td>[]</td>\n",
       "      <td>ORGANISM</td>\n",
       "      <td>11119</td>\n",
       "    </tr>\n",
       "    <tr>\n",
       "      <th>1</th>\n",
       "      <td>[]</td>\n",
       "      <td>SARS coronavirus</td>\n",
       "      <td>SARS coronavirus</td>\n",
       "      <td>15.0</td>\n",
       "      <td>False</td>\n",
       "      <td>CHEMBL612575</td>\n",
       "      <td>[]</td>\n",
       "      <td>ORGANISM</td>\n",
       "      <td>227859</td>\n",
       "    </tr>\n",
       "    <tr>\n",
       "      <th>2</th>\n",
       "      <td>[]</td>\n",
       "      <td>Feline coronavirus</td>\n",
       "      <td>Feline coronavirus</td>\n",
       "      <td>15.0</td>\n",
       "      <td>False</td>\n",
       "      <td>CHEMBL612744</td>\n",
       "      <td>[]</td>\n",
       "      <td>ORGANISM</td>\n",
       "      <td>12663</td>\n",
       "    </tr>\n",
       "    <tr>\n",
       "      <th>3</th>\n",
       "      <td>[]</td>\n",
       "      <td>Human coronavirus 229E</td>\n",
       "      <td>Human coronavirus 229E</td>\n",
       "      <td>13.0</td>\n",
       "      <td>False</td>\n",
       "      <td>CHEMBL613837</td>\n",
       "      <td>[]</td>\n",
       "      <td>ORGANISM</td>\n",
       "      <td>11137</td>\n",
       "    </tr>\n",
       "    <tr>\n",
       "      <th>4</th>\n",
       "      <td>[{'xref_id': 'P0C6U8', 'xref_name': None, 'xre...</td>\n",
       "      <td>SARS coronavirus</td>\n",
       "      <td>SARS coronavirus 3C-like proteinase</td>\n",
       "      <td>10.0</td>\n",
       "      <td>False</td>\n",
       "      <td>CHEMBL3927</td>\n",
       "      <td>[{'accession': 'P0C6U8', 'component_descriptio...</td>\n",
       "      <td>SINGLE PROTEIN</td>\n",
       "      <td>227859</td>\n",
       "    </tr>\n",
       "    <tr>\n",
       "      <th>5</th>\n",
       "      <td>[]</td>\n",
       "      <td>Middle East respiratory syndrome-related coron...</td>\n",
       "      <td>Middle East respiratory syndrome-related coron...</td>\n",
       "      <td>9.0</td>\n",
       "      <td>False</td>\n",
       "      <td>CHEMBL4296578</td>\n",
       "      <td>[]</td>\n",
       "      <td>ORGANISM</td>\n",
       "      <td>1335626</td>\n",
       "    </tr>\n",
       "    <tr>\n",
       "      <th>6</th>\n",
       "      <td>[{'xref_id': 'P0C6X7', 'xref_name': None, 'xre...</td>\n",
       "      <td>SARS coronavirus</td>\n",
       "      <td>Replicase polyprotein 1ab</td>\n",
       "      <td>4.0</td>\n",
       "      <td>False</td>\n",
       "      <td>CHEMBL5118</td>\n",
       "      <td>[{'accession': 'P0C6X7', 'component_descriptio...</td>\n",
       "      <td>SINGLE PROTEIN</td>\n",
       "      <td>227859</td>\n",
       "    </tr>\n",
       "    <tr>\n",
       "      <th>7</th>\n",
       "      <td>[]</td>\n",
       "      <td>Severe acute respiratory syndrome coronavirus 2</td>\n",
       "      <td>Replicase polyprotein 1ab</td>\n",
       "      <td>4.0</td>\n",
       "      <td>False</td>\n",
       "      <td>CHEMBL4523582</td>\n",
       "      <td>[{'accession': 'P0DTD1', 'component_descriptio...</td>\n",
       "      <td>SINGLE PROTEIN</td>\n",
       "      <td>2697049</td>\n",
       "    </tr>\n",
       "  </tbody>\n",
       "</table>\n",
       "</div>"
      ],
      "text/plain": [
       "                                    cross_references  \\\n",
       "0                                                 []   \n",
       "1                                                 []   \n",
       "2                                                 []   \n",
       "3                                                 []   \n",
       "4  [{'xref_id': 'P0C6U8', 'xref_name': None, 'xre...   \n",
       "5                                                 []   \n",
       "6  [{'xref_id': 'P0C6X7', 'xref_name': None, 'xre...   \n",
       "7                                                 []   \n",
       "\n",
       "                                            organism  \\\n",
       "0                                        Coronavirus   \n",
       "1                                   SARS coronavirus   \n",
       "2                                 Feline coronavirus   \n",
       "3                             Human coronavirus 229E   \n",
       "4                                   SARS coronavirus   \n",
       "5  Middle East respiratory syndrome-related coron...   \n",
       "6                                   SARS coronavirus   \n",
       "7    Severe acute respiratory syndrome coronavirus 2   \n",
       "\n",
       "                                           pref_name  score  \\\n",
       "0                                        Coronavirus   17.0   \n",
       "1                                   SARS coronavirus   15.0   \n",
       "2                                 Feline coronavirus   15.0   \n",
       "3                             Human coronavirus 229E   13.0   \n",
       "4                SARS coronavirus 3C-like proteinase   10.0   \n",
       "5  Middle East respiratory syndrome-related coron...    9.0   \n",
       "6                          Replicase polyprotein 1ab    4.0   \n",
       "7                          Replicase polyprotein 1ab    4.0   \n",
       "\n",
       "   species_group_flag target_chembl_id  \\\n",
       "0               False     CHEMBL613732   \n",
       "1               False     CHEMBL612575   \n",
       "2               False     CHEMBL612744   \n",
       "3               False     CHEMBL613837   \n",
       "4               False       CHEMBL3927   \n",
       "5               False    CHEMBL4296578   \n",
       "6               False       CHEMBL5118   \n",
       "7               False    CHEMBL4523582   \n",
       "\n",
       "                                   target_components     target_type   tax_id  \n",
       "0                                                 []        ORGANISM    11119  \n",
       "1                                                 []        ORGANISM   227859  \n",
       "2                                                 []        ORGANISM    12663  \n",
       "3                                                 []        ORGANISM    11137  \n",
       "4  [{'accession': 'P0C6U8', 'component_descriptio...  SINGLE PROTEIN   227859  \n",
       "5                                                 []        ORGANISM  1335626  \n",
       "6  [{'accession': 'P0C6X7', 'component_descriptio...  SINGLE PROTEIN   227859  \n",
       "7  [{'accession': 'P0DTD1', 'component_descriptio...  SINGLE PROTEIN  2697049  "
      ]
     },
     "execution_count": 42,
     "metadata": {},
     "output_type": "execute_result"
    }
   ],
   "source": [
    "target = new_client.target\n",
    "target_query = target.search('coronavirus')\n",
    "targets = pd.DataFrame.from_dict(target_query)\n",
    "targets"
   ]
  },
  {
   "cell_type": "markdown",
   "metadata": {
    "id": "nXtpR-P31SF5"
   },
   "source": [
    "**Select and retrieve bioactive data for SARS coronavirus protein (CHEMBL3927\t) :**"
   ]
  },
  {
   "cell_type": "code",
   "execution_count": 43,
   "metadata": {
    "colab": {
     "base_uri": "https://localhost:8080/",
     "height": 35
    },
    "id": "b7JRjuOTuQmx",
    "outputId": "ba1abb73-1244-4a17-bfaa-9f4f3364c173"
   },
   "outputs": [
    {
     "data": {
      "text/plain": [
       "'CHEMBL3927'"
      ]
     },
     "execution_count": 43,
     "metadata": {},
     "output_type": "execute_result"
    }
   ],
   "source": [
    "selected_target = targets.target_chembl_id[4]\n",
    "selected_target"
   ]
  },
  {
   "cell_type": "code",
   "execution_count": 44,
   "metadata": {
    "id": "G4YqSIXKu9CH"
   },
   "outputs": [],
   "source": [
    "activity = new_client.activity\n",
    "result = activity.filter(target_chembl_id=selected_target).filter(standard_type = 'IC50')"
   ]
  },
  {
   "cell_type": "code",
   "execution_count": 45,
   "metadata": {
    "id": "4GCLvww9vsoN"
   },
   "outputs": [],
   "source": [
    "df = pd.DataFrame.from_dict(result)"
   ]
  },
  {
   "cell_type": "code",
   "execution_count": 46,
   "metadata": {
    "colab": {
     "base_uri": "https://localhost:8080/",
     "height": 835
    },
    "id": "HNg-qmV3v10N",
    "outputId": "5fd16eb9-233d-46b9-92e2-107b42635918"
   },
   "outputs": [
    {
     "data": {
      "text/html": [
       "<div>\n",
       "<style scoped>\n",
       "    .dataframe tbody tr th:only-of-type {\n",
       "        vertical-align: middle;\n",
       "    }\n",
       "\n",
       "    .dataframe tbody tr th {\n",
       "        vertical-align: top;\n",
       "    }\n",
       "\n",
       "    .dataframe thead th {\n",
       "        text-align: right;\n",
       "    }\n",
       "</style>\n",
       "<table border=\"1\" class=\"dataframe\">\n",
       "  <thead>\n",
       "    <tr style=\"text-align: right;\">\n",
       "      <th></th>\n",
       "      <th>activity_comment</th>\n",
       "      <th>activity_id</th>\n",
       "      <th>activity_properties</th>\n",
       "      <th>assay_chembl_id</th>\n",
       "      <th>assay_description</th>\n",
       "      <th>assay_type</th>\n",
       "      <th>assay_variant_accession</th>\n",
       "      <th>assay_variant_mutation</th>\n",
       "      <th>bao_endpoint</th>\n",
       "      <th>bao_format</th>\n",
       "      <th>...</th>\n",
       "      <th>target_organism</th>\n",
       "      <th>target_pref_name</th>\n",
       "      <th>target_tax_id</th>\n",
       "      <th>text_value</th>\n",
       "      <th>toid</th>\n",
       "      <th>type</th>\n",
       "      <th>units</th>\n",
       "      <th>uo_units</th>\n",
       "      <th>upper_value</th>\n",
       "      <th>value</th>\n",
       "    </tr>\n",
       "  </thead>\n",
       "  <tbody>\n",
       "    <tr>\n",
       "      <th>0</th>\n",
       "      <td>None</td>\n",
       "      <td>1480935</td>\n",
       "      <td>[]</td>\n",
       "      <td>CHEMBL829584</td>\n",
       "      <td>In vitro inhibitory concentration against SARS...</td>\n",
       "      <td>B</td>\n",
       "      <td>None</td>\n",
       "      <td>None</td>\n",
       "      <td>BAO_0000190</td>\n",
       "      <td>BAO_0000357</td>\n",
       "      <td>...</td>\n",
       "      <td>SARS coronavirus</td>\n",
       "      <td>SARS coronavirus 3C-like proteinase</td>\n",
       "      <td>227859</td>\n",
       "      <td>None</td>\n",
       "      <td>None</td>\n",
       "      <td>IC50</td>\n",
       "      <td>uM</td>\n",
       "      <td>UO_0000065</td>\n",
       "      <td>None</td>\n",
       "      <td>7.2</td>\n",
       "    </tr>\n",
       "    <tr>\n",
       "      <th>1</th>\n",
       "      <td>None</td>\n",
       "      <td>1480936</td>\n",
       "      <td>[]</td>\n",
       "      <td>CHEMBL829584</td>\n",
       "      <td>In vitro inhibitory concentration against SARS...</td>\n",
       "      <td>B</td>\n",
       "      <td>None</td>\n",
       "      <td>None</td>\n",
       "      <td>BAO_0000190</td>\n",
       "      <td>BAO_0000357</td>\n",
       "      <td>...</td>\n",
       "      <td>SARS coronavirus</td>\n",
       "      <td>SARS coronavirus 3C-like proteinase</td>\n",
       "      <td>227859</td>\n",
       "      <td>None</td>\n",
       "      <td>None</td>\n",
       "      <td>IC50</td>\n",
       "      <td>uM</td>\n",
       "      <td>UO_0000065</td>\n",
       "      <td>None</td>\n",
       "      <td>9.4</td>\n",
       "    </tr>\n",
       "    <tr>\n",
       "      <th>2</th>\n",
       "      <td>None</td>\n",
       "      <td>1481061</td>\n",
       "      <td>[]</td>\n",
       "      <td>CHEMBL830868</td>\n",
       "      <td>In vitro inhibitory concentration against SARS...</td>\n",
       "      <td>B</td>\n",
       "      <td>None</td>\n",
       "      <td>None</td>\n",
       "      <td>BAO_0000190</td>\n",
       "      <td>BAO_0000357</td>\n",
       "      <td>...</td>\n",
       "      <td>SARS coronavirus</td>\n",
       "      <td>SARS coronavirus 3C-like proteinase</td>\n",
       "      <td>227859</td>\n",
       "      <td>None</td>\n",
       "      <td>None</td>\n",
       "      <td>IC50</td>\n",
       "      <td>uM</td>\n",
       "      <td>UO_0000065</td>\n",
       "      <td>None</td>\n",
       "      <td>13.5</td>\n",
       "    </tr>\n",
       "    <tr>\n",
       "      <th>3</th>\n",
       "      <td>None</td>\n",
       "      <td>1481065</td>\n",
       "      <td>[]</td>\n",
       "      <td>CHEMBL829584</td>\n",
       "      <td>In vitro inhibitory concentration against SARS...</td>\n",
       "      <td>B</td>\n",
       "      <td>None</td>\n",
       "      <td>None</td>\n",
       "      <td>BAO_0000190</td>\n",
       "      <td>BAO_0000357</td>\n",
       "      <td>...</td>\n",
       "      <td>SARS coronavirus</td>\n",
       "      <td>SARS coronavirus 3C-like proteinase</td>\n",
       "      <td>227859</td>\n",
       "      <td>None</td>\n",
       "      <td>None</td>\n",
       "      <td>IC50</td>\n",
       "      <td>uM</td>\n",
       "      <td>UO_0000065</td>\n",
       "      <td>None</td>\n",
       "      <td>13.11</td>\n",
       "    </tr>\n",
       "    <tr>\n",
       "      <th>4</th>\n",
       "      <td>None</td>\n",
       "      <td>1481066</td>\n",
       "      <td>[]</td>\n",
       "      <td>CHEMBL829584</td>\n",
       "      <td>In vitro inhibitory concentration against SARS...</td>\n",
       "      <td>B</td>\n",
       "      <td>None</td>\n",
       "      <td>None</td>\n",
       "      <td>BAO_0000190</td>\n",
       "      <td>BAO_0000357</td>\n",
       "      <td>...</td>\n",
       "      <td>SARS coronavirus</td>\n",
       "      <td>SARS coronavirus 3C-like proteinase</td>\n",
       "      <td>227859</td>\n",
       "      <td>None</td>\n",
       "      <td>None</td>\n",
       "      <td>IC50</td>\n",
       "      <td>uM</td>\n",
       "      <td>UO_0000065</td>\n",
       "      <td>None</td>\n",
       "      <td>2.0</td>\n",
       "    </tr>\n",
       "    <tr>\n",
       "      <th>...</th>\n",
       "      <td>...</td>\n",
       "      <td>...</td>\n",
       "      <td>...</td>\n",
       "      <td>...</td>\n",
       "      <td>...</td>\n",
       "      <td>...</td>\n",
       "      <td>...</td>\n",
       "      <td>...</td>\n",
       "      <td>...</td>\n",
       "      <td>...</td>\n",
       "      <td>...</td>\n",
       "      <td>...</td>\n",
       "      <td>...</td>\n",
       "      <td>...</td>\n",
       "      <td>...</td>\n",
       "      <td>...</td>\n",
       "      <td>...</td>\n",
       "      <td>...</td>\n",
       "      <td>...</td>\n",
       "      <td>...</td>\n",
       "      <td>...</td>\n",
       "    </tr>\n",
       "    <tr>\n",
       "      <th>128</th>\n",
       "      <td>None</td>\n",
       "      <td>12041507</td>\n",
       "      <td>[]</td>\n",
       "      <td>CHEMBL2150313</td>\n",
       "      <td>Inhibition of SARS-CoV PLpro expressed in Esch...</td>\n",
       "      <td>B</td>\n",
       "      <td>None</td>\n",
       "      <td>None</td>\n",
       "      <td>BAO_0000190</td>\n",
       "      <td>BAO_0000019</td>\n",
       "      <td>...</td>\n",
       "      <td>SARS coronavirus</td>\n",
       "      <td>SARS coronavirus 3C-like proteinase</td>\n",
       "      <td>227859</td>\n",
       "      <td>None</td>\n",
       "      <td>None</td>\n",
       "      <td>IC50</td>\n",
       "      <td>uM</td>\n",
       "      <td>UO_0000065</td>\n",
       "      <td>None</td>\n",
       "      <td>10.6</td>\n",
       "    </tr>\n",
       "    <tr>\n",
       "      <th>129</th>\n",
       "      <td>None</td>\n",
       "      <td>12041508</td>\n",
       "      <td>[]</td>\n",
       "      <td>CHEMBL2150313</td>\n",
       "      <td>Inhibition of SARS-CoV PLpro expressed in Esch...</td>\n",
       "      <td>B</td>\n",
       "      <td>None</td>\n",
       "      <td>None</td>\n",
       "      <td>BAO_0000190</td>\n",
       "      <td>BAO_0000019</td>\n",
       "      <td>...</td>\n",
       "      <td>SARS coronavirus</td>\n",
       "      <td>SARS coronavirus 3C-like proteinase</td>\n",
       "      <td>227859</td>\n",
       "      <td>None</td>\n",
       "      <td>None</td>\n",
       "      <td>IC50</td>\n",
       "      <td>uM</td>\n",
       "      <td>UO_0000065</td>\n",
       "      <td>None</td>\n",
       "      <td>10.1</td>\n",
       "    </tr>\n",
       "    <tr>\n",
       "      <th>130</th>\n",
       "      <td>None</td>\n",
       "      <td>12041509</td>\n",
       "      <td>[]</td>\n",
       "      <td>CHEMBL2150313</td>\n",
       "      <td>Inhibition of SARS-CoV PLpro expressed in Esch...</td>\n",
       "      <td>B</td>\n",
       "      <td>None</td>\n",
       "      <td>None</td>\n",
       "      <td>BAO_0000190</td>\n",
       "      <td>BAO_0000019</td>\n",
       "      <td>...</td>\n",
       "      <td>SARS coronavirus</td>\n",
       "      <td>SARS coronavirus 3C-like proteinase</td>\n",
       "      <td>227859</td>\n",
       "      <td>None</td>\n",
       "      <td>None</td>\n",
       "      <td>IC50</td>\n",
       "      <td>uM</td>\n",
       "      <td>UO_0000065</td>\n",
       "      <td>None</td>\n",
       "      <td>11.5</td>\n",
       "    </tr>\n",
       "    <tr>\n",
       "      <th>131</th>\n",
       "      <td>None</td>\n",
       "      <td>12041510</td>\n",
       "      <td>[]</td>\n",
       "      <td>CHEMBL2150313</td>\n",
       "      <td>Inhibition of SARS-CoV PLpro expressed in Esch...</td>\n",
       "      <td>B</td>\n",
       "      <td>None</td>\n",
       "      <td>None</td>\n",
       "      <td>BAO_0000190</td>\n",
       "      <td>BAO_0000019</td>\n",
       "      <td>...</td>\n",
       "      <td>SARS coronavirus</td>\n",
       "      <td>SARS coronavirus 3C-like proteinase</td>\n",
       "      <td>227859</td>\n",
       "      <td>None</td>\n",
       "      <td>None</td>\n",
       "      <td>IC50</td>\n",
       "      <td>uM</td>\n",
       "      <td>UO_0000065</td>\n",
       "      <td>None</td>\n",
       "      <td>10.7</td>\n",
       "    </tr>\n",
       "    <tr>\n",
       "      <th>132</th>\n",
       "      <td>None</td>\n",
       "      <td>12041511</td>\n",
       "      <td>[]</td>\n",
       "      <td>CHEMBL2150313</td>\n",
       "      <td>Inhibition of SARS-CoV PLpro expressed in Esch...</td>\n",
       "      <td>B</td>\n",
       "      <td>None</td>\n",
       "      <td>None</td>\n",
       "      <td>BAO_0000190</td>\n",
       "      <td>BAO_0000019</td>\n",
       "      <td>...</td>\n",
       "      <td>SARS coronavirus</td>\n",
       "      <td>SARS coronavirus 3C-like proteinase</td>\n",
       "      <td>227859</td>\n",
       "      <td>None</td>\n",
       "      <td>None</td>\n",
       "      <td>IC50</td>\n",
       "      <td>uM</td>\n",
       "      <td>UO_0000065</td>\n",
       "      <td>None</td>\n",
       "      <td>78.9</td>\n",
       "    </tr>\n",
       "  </tbody>\n",
       "</table>\n",
       "<p>133 rows × 45 columns</p>\n",
       "</div>"
      ],
      "text/plain": [
       "    activity_comment  activity_id activity_properties assay_chembl_id  \\\n",
       "0               None      1480935                  []    CHEMBL829584   \n",
       "1               None      1480936                  []    CHEMBL829584   \n",
       "2               None      1481061                  []    CHEMBL830868   \n",
       "3               None      1481065                  []    CHEMBL829584   \n",
       "4               None      1481066                  []    CHEMBL829584   \n",
       "..               ...          ...                 ...             ...   \n",
       "128             None     12041507                  []   CHEMBL2150313   \n",
       "129             None     12041508                  []   CHEMBL2150313   \n",
       "130             None     12041509                  []   CHEMBL2150313   \n",
       "131             None     12041510                  []   CHEMBL2150313   \n",
       "132             None     12041511                  []   CHEMBL2150313   \n",
       "\n",
       "                                     assay_description assay_type  \\\n",
       "0    In vitro inhibitory concentration against SARS...          B   \n",
       "1    In vitro inhibitory concentration against SARS...          B   \n",
       "2    In vitro inhibitory concentration against SARS...          B   \n",
       "3    In vitro inhibitory concentration against SARS...          B   \n",
       "4    In vitro inhibitory concentration against SARS...          B   \n",
       "..                                                 ...        ...   \n",
       "128  Inhibition of SARS-CoV PLpro expressed in Esch...          B   \n",
       "129  Inhibition of SARS-CoV PLpro expressed in Esch...          B   \n",
       "130  Inhibition of SARS-CoV PLpro expressed in Esch...          B   \n",
       "131  Inhibition of SARS-CoV PLpro expressed in Esch...          B   \n",
       "132  Inhibition of SARS-CoV PLpro expressed in Esch...          B   \n",
       "\n",
       "    assay_variant_accession assay_variant_mutation bao_endpoint   bao_format  \\\n",
       "0                      None                   None  BAO_0000190  BAO_0000357   \n",
       "1                      None                   None  BAO_0000190  BAO_0000357   \n",
       "2                      None                   None  BAO_0000190  BAO_0000357   \n",
       "3                      None                   None  BAO_0000190  BAO_0000357   \n",
       "4                      None                   None  BAO_0000190  BAO_0000357   \n",
       "..                      ...                    ...          ...          ...   \n",
       "128                    None                   None  BAO_0000190  BAO_0000019   \n",
       "129                    None                   None  BAO_0000190  BAO_0000019   \n",
       "130                    None                   None  BAO_0000190  BAO_0000019   \n",
       "131                    None                   None  BAO_0000190  BAO_0000019   \n",
       "132                    None                   None  BAO_0000190  BAO_0000019   \n",
       "\n",
       "     ...   target_organism                     target_pref_name target_tax_id  \\\n",
       "0    ...  SARS coronavirus  SARS coronavirus 3C-like proteinase        227859   \n",
       "1    ...  SARS coronavirus  SARS coronavirus 3C-like proteinase        227859   \n",
       "2    ...  SARS coronavirus  SARS coronavirus 3C-like proteinase        227859   \n",
       "3    ...  SARS coronavirus  SARS coronavirus 3C-like proteinase        227859   \n",
       "4    ...  SARS coronavirus  SARS coronavirus 3C-like proteinase        227859   \n",
       "..   ...               ...                                  ...           ...   \n",
       "128  ...  SARS coronavirus  SARS coronavirus 3C-like proteinase        227859   \n",
       "129  ...  SARS coronavirus  SARS coronavirus 3C-like proteinase        227859   \n",
       "130  ...  SARS coronavirus  SARS coronavirus 3C-like proteinase        227859   \n",
       "131  ...  SARS coronavirus  SARS coronavirus 3C-like proteinase        227859   \n",
       "132  ...  SARS coronavirus  SARS coronavirus 3C-like proteinase        227859   \n",
       "\n",
       "    text_value  toid  type  units    uo_units upper_value  value  \n",
       "0         None  None  IC50     uM  UO_0000065        None    7.2  \n",
       "1         None  None  IC50     uM  UO_0000065        None    9.4  \n",
       "2         None  None  IC50     uM  UO_0000065        None   13.5  \n",
       "3         None  None  IC50     uM  UO_0000065        None  13.11  \n",
       "4         None  None  IC50     uM  UO_0000065        None    2.0  \n",
       "..         ...   ...   ...    ...         ...         ...    ...  \n",
       "128       None  None  IC50     uM  UO_0000065        None   10.6  \n",
       "129       None  None  IC50     uM  UO_0000065        None   10.1  \n",
       "130       None  None  IC50     uM  UO_0000065        None   11.5  \n",
       "131       None  None  IC50     uM  UO_0000065        None   10.7  \n",
       "132       None  None  IC50     uM  UO_0000065        None   78.9  \n",
       "\n",
       "[133 rows x 45 columns]"
      ]
     },
     "execution_count": 46,
     "metadata": {},
     "output_type": "execute_result"
    }
   ],
   "source": [
    "df"
   ]
  },
  {
   "cell_type": "code",
   "execution_count": 47,
   "metadata": {
    "id": "RnuaCfgn2h0S"
   },
   "outputs": [],
   "source": [
    "df.to_csv('coronavirus_bioactivity_data_raw.csv',index=False)"
   ]
  },
  {
   "cell_type": "markdown",
   "metadata": {
    "id": "dQPjlB6q27tb"
   },
   "source": [
    "**Handling Missing Data :**"
   ]
  },
  {
   "cell_type": "code",
   "execution_count": 48,
   "metadata": {
    "colab": {
     "base_uri": "https://localhost:8080/"
    },
    "id": "VggZ12vOzT5p",
    "outputId": "198a10d1-de32-4246-c74d-b3a6026cf579",
    "scrolled": false
   },
   "outputs": [
    {
     "data": {
      "text/plain": [
       "Index(['activity_comment', 'activity_id', 'activity_properties',\n",
       "       'assay_chembl_id', 'assay_description', 'assay_type',\n",
       "       'assay_variant_accession', 'assay_variant_mutation', 'bao_endpoint',\n",
       "       'bao_format', 'bao_label', 'canonical_smiles', 'data_validity_comment',\n",
       "       'data_validity_description', 'document_chembl_id', 'document_journal',\n",
       "       'document_year', 'ligand_efficiency', 'molecule_chembl_id',\n",
       "       'molecule_pref_name', 'parent_molecule_chembl_id', 'pchembl_value',\n",
       "       'potential_duplicate', 'qudt_units', 'record_id', 'relation', 'src_id',\n",
       "       'standard_flag', 'standard_relation', 'standard_text_value',\n",
       "       'standard_type', 'standard_units', 'standard_upper_value',\n",
       "       'standard_value', 'target_chembl_id', 'target_organism',\n",
       "       'target_pref_name', 'target_tax_id', 'text_value', 'toid', 'type',\n",
       "       'units', 'uo_units', 'upper_value', 'value'],\n",
       "      dtype='object')"
      ]
     },
     "execution_count": 48,
     "metadata": {},
     "output_type": "execute_result"
    }
   ],
   "source": [
    "df.columns"
   ]
  },
  {
   "cell_type": "markdown",
   "metadata": {
    "id": "Kbk-psg46C9L"
   },
   "source": [
    "For further activity studies we need only 'molecule_chembl_id', 'canonical_smiles' and 'standard_value'.\n",
    "\n",
    "\n"
   ]
  },
  {
   "cell_type": "code",
   "execution_count": 49,
   "metadata": {
    "colab": {
     "base_uri": "https://localhost:8080/",
     "height": 424
    },
    "id": "ZuaH-RUG6mXU",
    "outputId": "abb293b3-cc83-46a9-ddf6-57314984f275"
   },
   "outputs": [
    {
     "data": {
      "text/html": [
       "<div>\n",
       "<style scoped>\n",
       "    .dataframe tbody tr th:only-of-type {\n",
       "        vertical-align: middle;\n",
       "    }\n",
       "\n",
       "    .dataframe tbody tr th {\n",
       "        vertical-align: top;\n",
       "    }\n",
       "\n",
       "    .dataframe thead th {\n",
       "        text-align: right;\n",
       "    }\n",
       "</style>\n",
       "<table border=\"1\" class=\"dataframe\">\n",
       "  <thead>\n",
       "    <tr style=\"text-align: right;\">\n",
       "      <th></th>\n",
       "      <th>molecule_chembl_id</th>\n",
       "      <th>canonical_smiles</th>\n",
       "      <th>standard_value</th>\n",
       "    </tr>\n",
       "  </thead>\n",
       "  <tbody>\n",
       "    <tr>\n",
       "      <th>0</th>\n",
       "      <td>CHEMBL187579</td>\n",
       "      <td>Cc1noc(C)c1CN1C(=O)C(=O)c2cc(C#N)ccc21</td>\n",
       "      <td>7200.0</td>\n",
       "    </tr>\n",
       "    <tr>\n",
       "      <th>1</th>\n",
       "      <td>CHEMBL188487</td>\n",
       "      <td>O=C1C(=O)N(Cc2ccc(F)cc2Cl)c2ccc(I)cc21</td>\n",
       "      <td>9400.0</td>\n",
       "    </tr>\n",
       "    <tr>\n",
       "      <th>2</th>\n",
       "      <td>CHEMBL185698</td>\n",
       "      <td>O=C1C(=O)N(CC2COc3ccccc3O2)c2ccc(I)cc21</td>\n",
       "      <td>13500.0</td>\n",
       "    </tr>\n",
       "    <tr>\n",
       "      <th>3</th>\n",
       "      <td>CHEMBL426082</td>\n",
       "      <td>O=C1C(=O)N(Cc2cc3ccccc3s2)c2ccccc21</td>\n",
       "      <td>13110.0</td>\n",
       "    </tr>\n",
       "    <tr>\n",
       "      <th>4</th>\n",
       "      <td>CHEMBL187717</td>\n",
       "      <td>O=C1C(=O)N(Cc2cc3ccccc3s2)c2c1cccc2[N+](=O)[O-]</td>\n",
       "      <td>2000.0</td>\n",
       "    </tr>\n",
       "    <tr>\n",
       "      <th>...</th>\n",
       "      <td>...</td>\n",
       "      <td>...</td>\n",
       "      <td>...</td>\n",
       "    </tr>\n",
       "    <tr>\n",
       "      <th>128</th>\n",
       "      <td>CHEMBL2146517</td>\n",
       "      <td>COC(=O)[C@@]1(C)CCCc2c1ccc1c2C(=O)C(=O)c2c(C)c...</td>\n",
       "      <td>10600.0</td>\n",
       "    </tr>\n",
       "    <tr>\n",
       "      <th>129</th>\n",
       "      <td>CHEMBL187460</td>\n",
       "      <td>C[C@H]1COC2=C1C(=O)C(=O)c1c2ccc2c1CCCC2(C)C</td>\n",
       "      <td>10100.0</td>\n",
       "    </tr>\n",
       "    <tr>\n",
       "      <th>130</th>\n",
       "      <td>CHEMBL363535</td>\n",
       "      <td>Cc1coc2c1C(=O)C(=O)c1c-2ccc2c(C)cccc12</td>\n",
       "      <td>11500.0</td>\n",
       "    </tr>\n",
       "    <tr>\n",
       "      <th>131</th>\n",
       "      <td>CHEMBL227075</td>\n",
       "      <td>Cc1cccc2c3c(ccc12)C1=C(C(=O)C3=O)[C@@H](C)CO1</td>\n",
       "      <td>10700.0</td>\n",
       "    </tr>\n",
       "    <tr>\n",
       "      <th>132</th>\n",
       "      <td>CHEMBL45830</td>\n",
       "      <td>CC(C)C1=Cc2ccc3c(c2C(=O)C1=O)CCCC3(C)C</td>\n",
       "      <td>78900.0</td>\n",
       "    </tr>\n",
       "  </tbody>\n",
       "</table>\n",
       "<p>133 rows × 3 columns</p>\n",
       "</div>"
      ],
      "text/plain": [
       "    molecule_chembl_id                                   canonical_smiles  \\\n",
       "0         CHEMBL187579             Cc1noc(C)c1CN1C(=O)C(=O)c2cc(C#N)ccc21   \n",
       "1         CHEMBL188487             O=C1C(=O)N(Cc2ccc(F)cc2Cl)c2ccc(I)cc21   \n",
       "2         CHEMBL185698            O=C1C(=O)N(CC2COc3ccccc3O2)c2ccc(I)cc21   \n",
       "3         CHEMBL426082                O=C1C(=O)N(Cc2cc3ccccc3s2)c2ccccc21   \n",
       "4         CHEMBL187717    O=C1C(=O)N(Cc2cc3ccccc3s2)c2c1cccc2[N+](=O)[O-]   \n",
       "..                 ...                                                ...   \n",
       "128      CHEMBL2146517  COC(=O)[C@@]1(C)CCCc2c1ccc1c2C(=O)C(=O)c2c(C)c...   \n",
       "129       CHEMBL187460        C[C@H]1COC2=C1C(=O)C(=O)c1c2ccc2c1CCCC2(C)C   \n",
       "130       CHEMBL363535             Cc1coc2c1C(=O)C(=O)c1c-2ccc2c(C)cccc12   \n",
       "131       CHEMBL227075      Cc1cccc2c3c(ccc12)C1=C(C(=O)C3=O)[C@@H](C)CO1   \n",
       "132        CHEMBL45830             CC(C)C1=Cc2ccc3c(c2C(=O)C1=O)CCCC3(C)C   \n",
       "\n",
       "    standard_value  \n",
       "0           7200.0  \n",
       "1           9400.0  \n",
       "2          13500.0  \n",
       "3          13110.0  \n",
       "4           2000.0  \n",
       "..             ...  \n",
       "128        10600.0  \n",
       "129        10100.0  \n",
       "130        11500.0  \n",
       "131        10700.0  \n",
       "132        78900.0  \n",
       "\n",
       "[133 rows x 3 columns]"
      ]
     },
     "execution_count": 49,
     "metadata": {},
     "output_type": "execute_result"
    }
   ],
   "source": [
    "selection = ['molecule_chembl_id', 'canonical_smiles' , 'standard_value']\n",
    "df2 = df[selection]\n",
    "df2"
   ]
  },
  {
   "cell_type": "code",
   "execution_count": 50,
   "metadata": {
    "colab": {
     "base_uri": "https://localhost:8080/"
    },
    "id": "TzmBXihR6mZl",
    "outputId": "d547928a-d599-43bb-8d9b-8c7a14ae080f"
   },
   "outputs": [
    {
     "data": {
      "text/plain": [
       "molecule_chembl_id    0\n",
       "canonical_smiles      0\n",
       "standard_value        0\n",
       "dtype: int64"
      ]
     },
     "execution_count": 50,
     "metadata": {},
     "output_type": "execute_result"
    }
   ],
   "source": [
    "df2.isnull().sum()"
   ]
  },
  {
   "cell_type": "markdown",
   "metadata": {
    "id": "ADoJmnpH7AFD"
   },
   "source": [
    "No missing data for the selected columns."
   ]
  },
  {
   "cell_type": "code",
   "execution_count": 51,
   "metadata": {
    "colab": {
     "base_uri": "https://localhost:8080/"
    },
    "id": "be7HjE-Vl_qr",
    "outputId": "7df568e6-94c8-4cd7-d6bf-20cac4913dc0"
   },
   "outputs": [
    {
     "data": {
      "text/plain": [
       "molecule_chembl_id    object\n",
       "canonical_smiles      object\n",
       "standard_value        object\n",
       "dtype: object"
      ]
     },
     "execution_count": 51,
     "metadata": {},
     "output_type": "execute_result"
    }
   ],
   "source": [
    "df2.dtypes"
   ]
  },
  {
   "cell_type": "code",
   "execution_count": 52,
   "metadata": {
    "colab": {
     "base_uri": "https://localhost:8080/"
    },
    "id": "KZhO8nexmE3y",
    "outputId": "5023f914-bcc0-47fa-ef51-8cfc45224768"
   },
   "outputs": [
    {
     "data": {
      "text/plain": [
       "0       7200.0\n",
       "1       9400.0\n",
       "2      13500.0\n",
       "3      13110.0\n",
       "4       2000.0\n",
       "        ...   \n",
       "128    10600.0\n",
       "129    10100.0\n",
       "130    11500.0\n",
       "131    10700.0\n",
       "132    78900.0\n",
       "Name: standard_value, Length: 133, dtype: float64"
      ]
     },
     "execution_count": 52,
     "metadata": {},
     "output_type": "execute_result"
    }
   ],
   "source": [
    "df2['standard_value'] = df2['standard_value'].astype('float')\n",
    "df2['standard_value']"
   ]
  },
  {
   "cell_type": "code",
   "execution_count": 53,
   "metadata": {
    "colab": {
     "base_uri": "https://localhost:8080/"
    },
    "id": "5FUehCh1m05b",
    "outputId": "d483854a-8e8c-4904-d08a-289300aeb1d8"
   },
   "outputs": [
    {
     "data": {
      "text/plain": [
       "molecule_chembl_id     object\n",
       "canonical_smiles       object\n",
       "standard_value        float64\n",
       "dtype: object"
      ]
     },
     "execution_count": 53,
     "metadata": {},
     "output_type": "execute_result"
    }
   ],
   "source": [
    "df2.dtypes"
   ]
  },
  {
   "cell_type": "markdown",
   "metadata": {
    "id": "3ymrkuVc83Qd"
   },
   "source": [
    "**Labelling compounds as either active, inactive or intermediate :**"
   ]
  },
  {
   "cell_type": "code",
   "execution_count": 55,
   "metadata": {
    "id": "tQ7Y3bcd7Jn7"
   },
   "outputs": [],
   "source": [
    "bioactivity_class = []\n",
    "for i in df2.standard_value:\n",
    "  if float(i) >= 10000: \n",
    "    bioactivity_class.append('inactive')\n",
    "  elif float (i) <=1000:\n",
    "    bioactivity_class.append('active')\n",
    "  else:\n",
    "    bioactivity_class.append('intermediate')"
   ]
  },
  {
   "cell_type": "code",
   "execution_count": 56,
   "metadata": {
    "colab": {
     "base_uri": "https://localhost:8080/"
    },
    "id": "ywfeWXlR-j88",
    "outputId": "4a830827-a5ab-47b6-8887-3a8edb80ce70",
    "scrolled": true
   },
   "outputs": [
    {
     "data": {
      "text/plain": [
       "0      intermediate\n",
       "1      intermediate\n",
       "2          inactive\n",
       "3          inactive\n",
       "4      intermediate\n",
       "           ...     \n",
       "128        inactive\n",
       "129        inactive\n",
       "130        inactive\n",
       "131        inactive\n",
       "132        inactive\n",
       "Name: bioactivity_class, Length: 133, dtype: object"
      ]
     },
     "execution_count": 56,
     "metadata": {},
     "output_type": "execute_result"
    }
   ],
   "source": [
    "bioactivity_class = pd.Series(bioactivity_class, name = 'bioactivity_class')\n",
    "bioactivity_class"
   ]
  },
  {
   "cell_type": "markdown",
   "metadata": {
    "id": "wGN8xD0599lU"
   },
   "source": [
    "**Combining the three classes ['molecule_chembl_id', 'canonical_smiles' , 'standard_value'] with bioactivity_class :**"
   ]
  },
  {
   "cell_type": "code",
   "execution_count": 57,
   "metadata": {
    "colab": {
     "base_uri": "https://localhost:8080/",
     "height": 424
    },
    "id": "udAabwdl-MUP",
    "outputId": "91a5a11a-6311-4457-a05e-50fc9bba4f76"
   },
   "outputs": [
    {
     "data": {
      "text/html": [
       "<div>\n",
       "<style scoped>\n",
       "    .dataframe tbody tr th:only-of-type {\n",
       "        vertical-align: middle;\n",
       "    }\n",
       "\n",
       "    .dataframe tbody tr th {\n",
       "        vertical-align: top;\n",
       "    }\n",
       "\n",
       "    .dataframe thead th {\n",
       "        text-align: right;\n",
       "    }\n",
       "</style>\n",
       "<table border=\"1\" class=\"dataframe\">\n",
       "  <thead>\n",
       "    <tr style=\"text-align: right;\">\n",
       "      <th></th>\n",
       "      <th>molecule_chembl_id</th>\n",
       "      <th>canonical_smiles</th>\n",
       "      <th>standard_value</th>\n",
       "      <th>bioactivity_class</th>\n",
       "    </tr>\n",
       "  </thead>\n",
       "  <tbody>\n",
       "    <tr>\n",
       "      <th>0</th>\n",
       "      <td>CHEMBL187579</td>\n",
       "      <td>Cc1noc(C)c1CN1C(=O)C(=O)c2cc(C#N)ccc21</td>\n",
       "      <td>7200.0</td>\n",
       "      <td>intermediate</td>\n",
       "    </tr>\n",
       "    <tr>\n",
       "      <th>1</th>\n",
       "      <td>CHEMBL188487</td>\n",
       "      <td>O=C1C(=O)N(Cc2ccc(F)cc2Cl)c2ccc(I)cc21</td>\n",
       "      <td>9400.0</td>\n",
       "      <td>intermediate</td>\n",
       "    </tr>\n",
       "    <tr>\n",
       "      <th>2</th>\n",
       "      <td>CHEMBL185698</td>\n",
       "      <td>O=C1C(=O)N(CC2COc3ccccc3O2)c2ccc(I)cc21</td>\n",
       "      <td>13500.0</td>\n",
       "      <td>inactive</td>\n",
       "    </tr>\n",
       "    <tr>\n",
       "      <th>3</th>\n",
       "      <td>CHEMBL426082</td>\n",
       "      <td>O=C1C(=O)N(Cc2cc3ccccc3s2)c2ccccc21</td>\n",
       "      <td>13110.0</td>\n",
       "      <td>inactive</td>\n",
       "    </tr>\n",
       "    <tr>\n",
       "      <th>4</th>\n",
       "      <td>CHEMBL187717</td>\n",
       "      <td>O=C1C(=O)N(Cc2cc3ccccc3s2)c2c1cccc2[N+](=O)[O-]</td>\n",
       "      <td>2000.0</td>\n",
       "      <td>intermediate</td>\n",
       "    </tr>\n",
       "    <tr>\n",
       "      <th>...</th>\n",
       "      <td>...</td>\n",
       "      <td>...</td>\n",
       "      <td>...</td>\n",
       "      <td>...</td>\n",
       "    </tr>\n",
       "    <tr>\n",
       "      <th>128</th>\n",
       "      <td>CHEMBL2146517</td>\n",
       "      <td>COC(=O)[C@@]1(C)CCCc2c1ccc1c2C(=O)C(=O)c2c(C)c...</td>\n",
       "      <td>10600.0</td>\n",
       "      <td>inactive</td>\n",
       "    </tr>\n",
       "    <tr>\n",
       "      <th>129</th>\n",
       "      <td>CHEMBL187460</td>\n",
       "      <td>C[C@H]1COC2=C1C(=O)C(=O)c1c2ccc2c1CCCC2(C)C</td>\n",
       "      <td>10100.0</td>\n",
       "      <td>inactive</td>\n",
       "    </tr>\n",
       "    <tr>\n",
       "      <th>130</th>\n",
       "      <td>CHEMBL363535</td>\n",
       "      <td>Cc1coc2c1C(=O)C(=O)c1c-2ccc2c(C)cccc12</td>\n",
       "      <td>11500.0</td>\n",
       "      <td>inactive</td>\n",
       "    </tr>\n",
       "    <tr>\n",
       "      <th>131</th>\n",
       "      <td>CHEMBL227075</td>\n",
       "      <td>Cc1cccc2c3c(ccc12)C1=C(C(=O)C3=O)[C@@H](C)CO1</td>\n",
       "      <td>10700.0</td>\n",
       "      <td>inactive</td>\n",
       "    </tr>\n",
       "    <tr>\n",
       "      <th>132</th>\n",
       "      <td>CHEMBL45830</td>\n",
       "      <td>CC(C)C1=Cc2ccc3c(c2C(=O)C1=O)CCCC3(C)C</td>\n",
       "      <td>78900.0</td>\n",
       "      <td>inactive</td>\n",
       "    </tr>\n",
       "  </tbody>\n",
       "</table>\n",
       "<p>133 rows × 4 columns</p>\n",
       "</div>"
      ],
      "text/plain": [
       "    molecule_chembl_id                                   canonical_smiles  \\\n",
       "0         CHEMBL187579             Cc1noc(C)c1CN1C(=O)C(=O)c2cc(C#N)ccc21   \n",
       "1         CHEMBL188487             O=C1C(=O)N(Cc2ccc(F)cc2Cl)c2ccc(I)cc21   \n",
       "2         CHEMBL185698            O=C1C(=O)N(CC2COc3ccccc3O2)c2ccc(I)cc21   \n",
       "3         CHEMBL426082                O=C1C(=O)N(Cc2cc3ccccc3s2)c2ccccc21   \n",
       "4         CHEMBL187717    O=C1C(=O)N(Cc2cc3ccccc3s2)c2c1cccc2[N+](=O)[O-]   \n",
       "..                 ...                                                ...   \n",
       "128      CHEMBL2146517  COC(=O)[C@@]1(C)CCCc2c1ccc1c2C(=O)C(=O)c2c(C)c...   \n",
       "129       CHEMBL187460        C[C@H]1COC2=C1C(=O)C(=O)c1c2ccc2c1CCCC2(C)C   \n",
       "130       CHEMBL363535             Cc1coc2c1C(=O)C(=O)c1c-2ccc2c(C)cccc12   \n",
       "131       CHEMBL227075      Cc1cccc2c3c(ccc12)C1=C(C(=O)C3=O)[C@@H](C)CO1   \n",
       "132        CHEMBL45830             CC(C)C1=Cc2ccc3c(c2C(=O)C1=O)CCCC3(C)C   \n",
       "\n",
       "     standard_value bioactivity_class  \n",
       "0            7200.0      intermediate  \n",
       "1            9400.0      intermediate  \n",
       "2           13500.0          inactive  \n",
       "3           13110.0          inactive  \n",
       "4            2000.0      intermediate  \n",
       "..              ...               ...  \n",
       "128         10600.0          inactive  \n",
       "129         10100.0          inactive  \n",
       "130         11500.0          inactive  \n",
       "131         10700.0          inactive  \n",
       "132         78900.0          inactive  \n",
       "\n",
       "[133 rows x 4 columns]"
      ]
     },
     "execution_count": 57,
     "metadata": {},
     "output_type": "execute_result"
    }
   ],
   "source": [
    "df3 = pd.concat([df2,bioactivity_class],axis=1)\n",
    "df3"
   ]
  },
  {
   "cell_type": "markdown",
   "metadata": {
    "id": "Qf0GYFSV_DAl"
   },
   "source": [
    "**Save dataframe to CSV file :**"
   ]
  },
  {
   "cell_type": "code",
   "execution_count": 58,
   "metadata": {
    "id": "ZvZzQUi6_CD0"
   },
   "outputs": [],
   "source": [
    "df3.to_csv('coronavirus_bioactivity_data_preprocessed.csv',index = False)"
   ]
  }
 ],
 "metadata": {
  "colab": {
   "collapsed_sections": [],
   "name": "CDD_ML_Coronavirus_target_protein_bioactivity",
   "provenance": []
  },
  "kernelspec": {
   "display_name": "Python 3",
   "language": "python",
   "name": "python3"
  },
  "language_info": {
   "codemirror_mode": {
    "name": "ipython",
    "version": 3
   },
   "file_extension": ".py",
   "mimetype": "text/x-python",
   "name": "python",
   "nbconvert_exporter": "python",
   "pygments_lexer": "ipython3",
   "version": "3.8.8"
  }
 },
 "nbformat": 4,
 "nbformat_minor": 1
}
